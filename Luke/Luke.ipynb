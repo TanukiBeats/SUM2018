{
 "cells": [
  {
   "cell_type": "markdown",
   "metadata": {},
   "source": [
    "Important Information!\n",
    "/gscratch/pfaendtner/maneko/SUM2018/Luke"
   ]
  },
  {
   "cell_type": "markdown",
   "metadata": {},
   "source": [
    "<font color='red'>6-28-2018</font>"
   ]
  },
  {
   "cell_type": "markdown",
   "metadata": {},
   "source": [
    "Waiting for publications to read... pending."
   ]
  },
  {
   "cell_type": "markdown",
   "metadata": {
    "collapsed": true
   },
   "source": [
    "<font color='red'>7-2-18</font>"
   ]
  },
  {
   "cell_type": "markdown",
   "metadata": {},
   "source": [
    "All notes are written on the publications which I'm reading.\n",
    "\n",
    "Terms to look up for \"Theoretical Studies to Understand Surface Chemistry Anodes for Lithium-Ion Batteries: REduction Mechanisms of Ethylene Carbonate\"\n",
    "- adiabatic electron affinities\n",
    "- film passivating ability\n",
    "- review reduction reactions\n",
    "- supermolecule\n",
    "- moiety\n",
    "- imaginary frequency\n",
    "- vibrational nodes\n",
    "- dimerization\n",
    "- electron pairing\n",
    "- reduction intermediate\n",
    "- carbide species\n",
    "- two-electron reduction mechanism\n",
    "- virtual orbitals\n",
    "- cluster contiuum model\n",
    "\n",
    "Questions for Luke:\n",
    "1. What's even the end goal here which will help with the SEI layer problem? O_O Checking the reaction intermediate structures? Getting energy values? Checking to see what happens when I throw in new things like more electrons?\n",
    "2. What's up with the radical ion? Unless I'm going crazy it seems really important to this paper but not so much to the other paper... Is this radical ion termination the last step or something? I'll have to check the diagrams.\n",
    "3. What kind of solvent model am I using? I feel like I heard Luke say something about using a explicit model? The paper seems to use both and compare the results.\n",
    "4. Is \"absolute data\" the absolute value of the dataset?\n",
    "5. What's the benefit to using these so-called \"supermolecules\"?"
   ]
  },
  {
   "cell_type": "markdown",
   "metadata": {},
   "source": [
    "<font color='red'>7-3-18</font>"
   ]
  },
  {
   "cell_type": "markdown",
   "metadata": {},
   "source": [
    "Terms to look up for \"Hybrid DFT Functional-Based Static and Molecular Dynamics Studies of Excess Electron in Liquid Ethylene Carbonate\n",
    "\n",
    "- solvation shell\n",
    "- periodic boundary condition simulation cells\n",
    "- cluster-based calculation\n",
    "- spin-polarized gradient-corrected DFT\n",
    "- exchange and correlation functionals\n",
    "- vibrational frequency analysis\n",
    "- electronic delocalization\n",
    "- charge transfer points\n",
    "- natural bond orbitals\n",
    "- incremental binding energy\n",
    "- condensed phase (community?)\n",
    "- long-range exchange term\n",
    "- dielectric solvation\n",
    "- well-equilibrated\n",
    "- HOMO and LUMO (highest occupied molecular orbital and lowest occupied molecular orbital)\n",
    "- vibrational prefactor\n",
    "- umbrella sampling calculation\n",
    "- excess electron density\n",
    "- dianion\n",
    "\n",
    "Question for Luke:\n",
    "1. How much does it matter which version of Gaussian I'm using? o_o\n",
    "2. Am I starting from scratch and just runnign the simulation to see which one I get and which one in the papers it's closest? Or I'm setting up certain systems and seeing how energetically favorable they are?\n",
    "3. Hybrid functionals seem to be favored in these papers? Am I going to try out different functionals and basis sets?\n",
    "4. How are hybrid functional theories alleviating local self-interaction errors? What are those errors anyways?\n",
    "5. I'm still not clear on the necessity of the simulations where there are an extra electron vs. the ones where there is a Li+ ion. They're both single ions and I'm not entirely clear on the different effects that each one is having.\n",
    "6. When they use the terminology that a function \"predicts\" a structure, is that referring to what actually comes out of the simulation?\n",
    "7. Short description on why HOMO and LUMO are so important? I've heard of them before.\n",
    "8. What does it mean when they're injecting an electron? It isn't there at the start of the simulation?\n",
    "9. What's screening?\n",
    "10. What's the point of doing simulations with one vs. two excess electrons? Isn't that a little too specific considered that in reality there will be way more electrons? Unless we are talking a specific 1:1 vs. 2:1 ratio."
   ]
  },
  {
   "cell_type": "markdown",
   "metadata": {
    "collapsed": true
   },
   "source": [
    "<font color='red'>7-12-18</font>"
   ]
  },
  {
   "cell_type": "markdown",
   "metadata": {
    "collapsed": true
   },
   "source": [
    "This hasn't been updated in a while because I have some stuff on the directory on my laptop and I don't want to overwrite things. But I keep forgetting... so I'll just update today here and make sure to bring my laptop tomorrow!\n",
    "\n",
    "The result of the scaling was that there was barely any difference between using different numbers of processors. There was also no trend at all. This was expected because the system the we are using is so small! For this reason, I'll only be using one processor for my work this summer. \n",
    "\n",
    "HYAK was unexpectedly down for the whole workday on Tuesday, so I didn't get a chance to run the new bits of code that Luke has for me. We are planning to meet on Friday."
   ]
  },
  {
   "cell_type": "code",
   "execution_count": null,
   "metadata": {
    "collapsed": true
   },
   "outputs": [],
   "source": []
  }
 ],
 "metadata": {
  "kernelspec": {
   "display_name": "Python 3",
   "language": "python",
   "name": "python3"
  },
  "language_info": {
   "codemirror_mode": {
    "name": "ipython",
    "version": 3
   },
   "file_extension": ".py",
   "mimetype": "text/x-python",
   "name": "python",
   "nbconvert_exporter": "python",
   "pygments_lexer": "ipython3",
   "version": "3.6.1"
  }
 },
 "nbformat": 4,
 "nbformat_minor": 2
}
