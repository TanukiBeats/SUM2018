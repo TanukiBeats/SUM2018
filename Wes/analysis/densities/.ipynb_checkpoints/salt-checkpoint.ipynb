{
 "cells": [
  {
   "cell_type": "code",
   "execution_count": 2,
   "metadata": {},
   "outputs": [
    {
     "name": "stdout",
     "output_type": "stream",
     "text": [
      "                                                                       0\n",
      "Unique salts                                                          82\n",
      "Cations                array(['CCCC[n+]1ccc(cc1)C', 'CCCCCCCCn1cc[n+]...\n",
      "Anions                 array(['[B-](F)(F)(F)F', 'F[P-](F)(F)(F)(F)F',...\n",
      "Total datapoints                                                    1630\n",
      "density                                                   885.3 - 1551.8\n",
      "cpt                                                       207.5 - 1635.0\n",
      "Temperature range (K)                                  101.325 - 101.325\n",
      "Pressure range (kPa)                                       298.1 - 298.2\n"
     ]
    }
   ],
   "source": [
    "### Script for creating the .pdb files for all salts. ###\n",
    "import salty\n",
    "from rdkit import Chem\n",
    "from rdkit.Chem import AllChem as Chem\n",
    "from rdkit.Chem.rdmolfiles import MolToPDBFile\n",
    "\n",
    "data = ['cpt', 'density'] #pull raw data from cpt.csv and density.csv\n",
    "T = [298, 299] #select narrow state variable ranges\n",
    "P = [101, 102] #we will set MD simulation to 101 kPa and 298 K\n",
    "devmodel = salty.aggregate_data(data,T=T,P=P)\n",
    "print(devmodel.Data_summary)\n",
    "salts = (devmodel.Data[\"smiles-cation\"]+\".\"+devmodel.Data[\"smiles-anion\"]).unique() #grab the unique salts\n",
    "\n",
    "# The counter must be changed manually\n",
    "i=1\n",
    "cation = Chem.MolFromSmiles(salts[i].split(\".\")[0])\n",
    "anion = Chem.MolFromSmiles(salts[i].split(\".\")[1]) #grab cation/anion\n",
    "cation = Chem.AddHs(cation) #add Hs\n",
    "Chem.EmbedMolecule(cation, Chem.ETKDG()) #Geo optimization for coordinates\n",
    "Chem.UFFOptimizeMolecule(cation) #FF optimization for better coordinates\n",
    "anion = Chem.AddHs(anion)\n",
    "Chem.EmbedMolecule(anion, Chem.ETKDG())\n",
    "Chem.UFFOptimizeMolecule(anion)\n",
    "    \n",
    "if i < 10:\n",
    "    MolToPDBFile(cation,\"C0{}.pdb\".format(i)) #write pdb files somewhere\n",
    "    MolToPDBFile(anion,\"A0{}.pdb\".format(i)) #with 3 character naming scheme\n",
    "else:\n",
    "    MolToPDBFile(cation,\"C{}.pdb\".format(i)) \n",
    "    MolToPDBFile(anion,\"A{}.pdb\".format(i))"
   ]
  },
  {
   "cell_type": "code",
   "execution_count": 9,
   "metadata": {
    "collapsed": true,
    "scrolled": true
   },
   "outputs": [],
   "source": [
    "### Script for pulling out density and heat capacity values which fall within the needed range. ###\n",
    "import pandas as pd\n",
    "import csv\n",
    "import salty\n",
    "\n",
    "data = pd.read_csv('density.csv', sep=',', header=None)\n",
    "data.columns = ['NaN','P','Density','NaN','T','Name']\n",
    "df = pd.DataFrame(data,columns=['NaN','P','Density','NaN','T','Name'])\n",
    "del df['NaN']\n",
    "\n",
    "df=df[df['T'] <= 299]\n",
    "df=df[df['T'] >= 298]\n",
    "df=df[df['P'] <= 102]\n",
    "df=df[df['P'] >= 101]\n",
    "\n",
    "df.to_csv('density_edit.csv', sep=',')\n",
    "\n",
    "data = pd.read_csv('cpt.csv', sep=',', header=None)\n",
    "data.columns = ['NaN','cpt','NaN','P','T','Name']\n",
    "df = pd.DataFrame(data,columns=['NaN','cpt','NaN','P','T','Name'])\n",
    "del df['NaN']\n",
    "\n",
    "df=df[df['T'] <= 299]\n",
    "df=df[df['T'] >= 298]\n",
    "df=df[df['P'] <= 102]\n",
    "df=df[df['P'] >= 101]\n",
    "\n",
    "df.to_csv('cpt_edit.csv', sep=',')"
   ]
  },
  {
   "cell_type": "code",
   "execution_count": null,
   "metadata": {
    "collapsed": true
   },
   "outputs": [],
   "source": [
    "### Script for making comparision file between SMILES and IUPAC names. ###\n",
    "import pandas as pd\n",
    "import csv\n",
    "import salty\n",
    "\n",
    "data = pd.read_csv('density.csv', sep=',', header=None)\n",
    "data.columns = ['NaN','P','Density','NaN','T','Name']\n",
    "df = pd.DataFrame(data,columns=['NaN','P','Density','NaN','T','Name'])\n",
    "del df['NaN']\n",
    "\n",
    "names = data.Name.tolist()\n",
    "ions = names[0].split(\" \")\n",
    "\n",
    "salts=[0]*len(names)\n",
    "for i in range(0,len(names)):\n",
    "    ions=names[i].split(\" \",1)\n",
    "    \n",
    "    if (len(ions)==1):\n",
    "        salts[i]=\"SPACING ERROR\"\n",
    "    else:\n",
    "        c_smiles=salty.check_name(\"%s\" % ions[0]);\n",
    "        a_smiles=salty.check_name(\"%s\" % ions[1]);\n",
    "    \n",
    "        if (c_smiles==0 or a_smiles==0):\n",
    "            salts[i]=\"QUERY NOT FOUND\"\n",
    "        else:\n",
    "            salts[i]=c_smiles+\".\"+a_smiles\n",
    "            \n",
    "comp = pd.DataFrame({'IUPAC': names, 'SMILES': salts})\n",
    "comp.to_csv('comparison.csv', sep=',')"
   ]
  },
  {
   "cell_type": "code",
   "execution_count": 47,
   "metadata": {},
   "outputs": [
    {
     "name": "stdout",
     "output_type": "stream",
     "text": [
      "1217.2006\n"
     ]
    }
   ],
   "source": [
    "### Script for caculating average density from MD calculation result. ###\n",
    "import pandas as pd\n",
    "import csv\n",
    "\n",
    "data=pd.read_csv('80.csv',sep=',',header=None)\n",
    "data.columns=['time','density']\n",
    "print(data[\"density\"].mean())\n",
    "    "
   ]
  },
  {
   "cell_type": "markdown",
   "metadata": {},
   "source": [
    "Note regarding C55_A55\n",
    "55,979.7,951.82986,,,979.7,979.7,0,0,2.844762682,824,811.743,,,824,824,0,0,1.4875"
   ]
  },
  {
   "cell_type": "code",
   "execution_count": 1,
   "metadata": {},
   "outputs": [
    {
     "data": {
      "text/plain": [
       "'C:\\\\Users\\\\bubbl\\\\OneDrive\\\\Desktop\\\\Summer2018\\\\Wes\\\\analysis\\\\densities'"
      ]
     },
     "execution_count": 1,
     "metadata": {},
     "output_type": "execute_result"
    }
   ],
   "source": [
    "pwd"
   ]
  },
  {
   "cell_type": "code",
   "execution_count": null,
   "metadata": {},
   "outputs": [],
   "source": []
  }
 ],
 "metadata": {
  "kernelspec": {
   "display_name": "Python 3",
   "language": "python",
   "name": "python3"
  },
  "language_info": {
   "codemirror_mode": {
    "name": "ipython",
    "version": 3
   },
   "file_extension": ".py",
   "mimetype": "text/x-python",
   "name": "python",
   "nbconvert_exporter": "python",
   "pygments_lexer": "ipython3",
   "version": "3.6.5"
  }
 },
 "nbformat": 4,
 "nbformat_minor": 2
}
