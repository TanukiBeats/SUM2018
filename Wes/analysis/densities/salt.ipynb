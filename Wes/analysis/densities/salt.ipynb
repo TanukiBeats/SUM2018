{
 "cells": [
  {
   "cell_type": "code",
   "execution_count": 1,
   "metadata": {},
   "outputs": [
    {
     "ename": "ModuleNotFoundError",
     "evalue": "No module named 'salty'",
     "output_type": "error",
     "traceback": [
      "\u001b[1;31m---------------------------------------------------------------------------\u001b[0m",
      "\u001b[1;31mModuleNotFoundError\u001b[0m                       Traceback (most recent call last)",
      "\u001b[1;32m<ipython-input-1-efbf1edbca99>\u001b[0m in \u001b[0;36m<module>\u001b[1;34m()\u001b[0m\n\u001b[0;32m      1\u001b[0m \u001b[1;31m### Script for creating the .pdb files for all salts. ###\u001b[0m\u001b[1;33m\u001b[0m\u001b[1;33m\u001b[0m\u001b[0m\n\u001b[1;32m----> 2\u001b[1;33m \u001b[1;32mimport\u001b[0m \u001b[0msalty\u001b[0m\u001b[1;33m\u001b[0m\u001b[0m\n\u001b[0m\u001b[0;32m      3\u001b[0m \u001b[1;32mfrom\u001b[0m \u001b[0mrdkit\u001b[0m \u001b[1;32mimport\u001b[0m \u001b[0mChem\u001b[0m\u001b[1;33m\u001b[0m\u001b[0m\n\u001b[0;32m      4\u001b[0m \u001b[1;32mfrom\u001b[0m \u001b[0mrdkit\u001b[0m\u001b[1;33m.\u001b[0m\u001b[0mChem\u001b[0m \u001b[1;32mimport\u001b[0m \u001b[0mAllChem\u001b[0m \u001b[1;32mas\u001b[0m \u001b[0mChem\u001b[0m\u001b[1;33m\u001b[0m\u001b[0m\n\u001b[0;32m      5\u001b[0m \u001b[1;32mfrom\u001b[0m \u001b[0mrdkit\u001b[0m\u001b[1;33m.\u001b[0m\u001b[0mChem\u001b[0m\u001b[1;33m.\u001b[0m\u001b[0mrdmolfiles\u001b[0m \u001b[1;32mimport\u001b[0m \u001b[0mMolToPDBFile\u001b[0m\u001b[1;33m\u001b[0m\u001b[0m\n",
      "\u001b[1;31mModuleNotFoundError\u001b[0m: No module named 'salty'"
     ]
    }
   ],
   "source": [
    "### Script for creating the .pdb files for all salts. ###\n",
    "import salty\n",
    "from rdkit import Chem\n",
    "from rdkit.Chem import AllChem as Chem\n",
    "from rdkit.Chem.rdmolfiles import MolToPDBFile\n",
    "\n",
    "data = ['cpt', 'density'] #pull raw data from cpt.csv and density.csv\n",
    "T = [298, 299] #select narrow state variable ranges\n",
    "P = [101, 102] #we will set MD simulation to 101 kPa and 298 K\n",
    "devmodel = salty.aggregate_data(data,T=T,P=P)\n",
    "print(devmodel.Data_summary)\n",
    "salts = (devmodel.Data[\"smiles-cation\"]+\".\"+devmodel.Data[\"smiles-anion\"]).unique() #grab the unique salts\n",
    "\n",
    "# The counter must be changed manually\n",
    "i=10\n",
    "cation = Chem.MolFromSmiles(salts[i].split(\".\")[0])\n",
    "anion = Chem.MolFromSmiles(salts[i].split(\".\")[1]) #grab cation/anion\n",
    "cation = Chem.AddHs(cation) #add Hs\n",
    "Chem.EmbedMolecule(cation, Chem.ETKDG()) #Geo optimization for coordinates\n",
    "Chem.UFFOptimizeMolecule(cation) #FF optimization for better coordinates\n",
    "anion = Chem.AddHs(anion)\n",
    "Chem.EmbedMolecule(anion, Chem.ETKDG())\n",
    "Chem.UFFOptimizeMolecule(anion)\n",
    "    \n",
    "if i < 10:\n",
    "    MolToPDBFile(cation,\"C0{}.pdb\".format(i)) #write pdb files somewhere\n",
    "    MolToPDBFile(anion,\"A0{}.pdb\".format(i)) #with 3 character naming scheme\n",
    "else:\n",
    "    MolToPDBFile(cation,\"C{}.pdb\".format(i)) \n",
    "    MolToPDBFile(anion,\"A{}.pdb\".format(i))"
   ]
  },
  {
   "cell_type": "code",
   "execution_count": 9,
   "metadata": {
    "collapsed": true,
    "scrolled": true
   },
   "outputs": [],
   "source": [
    "### Script for pulling out density and heat capacity values which fall within the needed range. ###\n",
    "import pandas as pd\n",
    "import csv\n",
    "import salty\n",
    "\n",
    "data = pd.read_csv('density.csv', sep=',', header=None)\n",
    "data.columns = ['NaN','P','Density','NaN','T','Name']\n",
    "df = pd.DataFrame(data,columns=['NaN','P','Density','NaN','T','Name'])\n",
    "del df['NaN']\n",
    "\n",
    "df=df[df['T'] <= 299]\n",
    "df=df[df['T'] >= 298]\n",
    "df=df[df['P'] <= 102]\n",
    "df=df[df['P'] >= 101]\n",
    "\n",
    "df.to_csv('density_edit.csv', sep=',')\n",
    "\n",
    "data = pd.read_csv('cpt.csv', sep=',', header=None)\n",
    "data.columns = ['NaN','cpt','NaN','P','T','Name']\n",
    "df = pd.DataFrame(data,columns=['NaN','cpt','NaN','P','T','Name'])\n",
    "del df['NaN']\n",
    "\n",
    "df=df[df['T'] <= 299]\n",
    "df=df[df['T'] >= 298]\n",
    "df=df[df['P'] <= 102]\n",
    "df=df[df['P'] >= 101]\n",
    "\n",
    "df.to_csv('cpt_edit.csv', sep=',')"
   ]
  },
  {
   "cell_type": "code",
   "execution_count": null,
   "metadata": {
    "collapsed": true
   },
   "outputs": [],
   "source": [
    "### Script for making comparision file between SMILES and IUPAC names. ###\n",
    "import pandas as pd\n",
    "import csv\n",
    "import salty\n",
    "\n",
    "data = pd.read_csv('density.csv', sep=',', header=None)\n",
    "data.columns = ['NaN','P','Density','NaN','T','Name']\n",
    "df = pd.DataFrame(data,columns=['NaN','P','Density','NaN','T','Name'])\n",
    "del df['NaN']\n",
    "\n",
    "names = data.Name.tolist()\n",
    "ions = names[0].split(\" \")\n",
    "\n",
    "salts=[0]*len(names)\n",
    "for i in range(0,len(names)):\n",
    "    ions=names[i].split(\" \",1)\n",
    "    \n",
    "    if (len(ions)==1):\n",
    "        salts[i]=\"SPACING ERROR\"\n",
    "    else:\n",
    "        c_smiles=salty.check_name(\"%s\" % ions[0]);\n",
    "        a_smiles=salty.check_name(\"%s\" % ions[1]);\n",
    "    \n",
    "        if (c_smiles==0 or a_smiles==0):\n",
    "            salts[i]=\"QUERY NOT FOUND\"\n",
    "        else:\n",
    "            salts[i]=c_smiles+\".\"+a_smiles\n",
    "            \n",
    "comp = pd.DataFrame({'IUPAC': names, 'SMILES': salts})\n",
    "comp.to_csv('comparison.csv', sep=',')"
   ]
  },
  {
   "cell_type": "code",
   "execution_count": 28,
   "metadata": {},
   "outputs": [
    {
     "name": "stdout",
     "output_type": "stream",
     "text": [
      "1224.7114\n"
     ]
    }
   ],
   "source": [
    "### Script for caculating average density from MD calculation result. ###\n",
    "import pandas as pd\n",
    "import csv\n",
    "\n",
    "data=pd.read_csv('74.csv',sep=',',header=None)\n",
    "data.columns=['time','density']\n",
    "print(data[\"density\"].mean())\n",
    "    "
   ]
  },
  {
   "cell_type": "markdown",
   "metadata": {},
   "source": [
    "Note regarding C55_A55\n",
    "55,979.7,951.82986,,,979.7,979.7,0,0,2.844762682,824,811.743,,,824,824,0,0,1.4875"
   ]
  },
  {
   "cell_type": "code",
   "execution_count": 1,
   "metadata": {},
   "outputs": [
    {
     "data": {
      "text/plain": [
       "'C:\\\\Users\\\\bubbl\\\\OneDrive\\\\Desktop\\\\SUM2018\\\\Wes\\\\analysis\\\\densities'"
      ]
     },
     "execution_count": 1,
     "metadata": {},
     "output_type": "execute_result"
    }
   ],
   "source": [
    "pwd"
   ]
  },
  {
   "cell_type": "code",
   "execution_count": null,
   "metadata": {},
   "outputs": [],
   "source": []
  }
 ],
 "metadata": {
  "kernelspec": {
   "display_name": "Python 3",
   "language": "python",
   "name": "python3"
  },
  "language_info": {
   "codemirror_mode": {
    "name": "ipython",
    "version": 3
   },
   "file_extension": ".py",
   "mimetype": "text/x-python",
   "name": "python",
   "nbconvert_exporter": "python",
   "pygments_lexer": "ipython3",
   "version": "3.6.4"
  }
 },
 "nbformat": 4,
 "nbformat_minor": 2
}
