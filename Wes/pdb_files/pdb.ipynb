{
 "cells": [
  {
   "cell_type": "code",
   "execution_count": 56,
   "metadata": {},
   "outputs": [
    {
     "name": "stdout",
     "output_type": "stream",
     "text": [
      "                                                                       0\n",
      "Unique salts                                                          82\n",
      "Cations                array(['CCCC[n+]1ccc(cc1)C', 'CCCCCCCCn1cc[n+]...\n",
      "Anions                 array(['[B-](F)(F)(F)F', 'F[P-](F)(F)(F)(F)F',...\n",
      "Total datapoints                                                    1630\n",
      "density                                                   885.3 - 1551.8\n",
      "cpt                                                       207.5 - 1635.0\n",
      "Temperature range (K)                                  101.325 - 101.325\n",
      "Pressure range (kPa)                                       298.1 - 298.2\n",
      "C[n+]1ccn(c1)CCO.C(=[N-])=NC#N\n"
     ]
    }
   ],
   "source": [
    "import salty\n",
    "from rdkit import Chem\n",
    "from rdkit.Chem import AllChem as Chem\n",
    "from rdkit.Chem.rdmolfiles import MolToPDBFile\n",
    "\n",
    "data = ['cpt', 'density'] #pull raw data from cpt.csv and density.csv\n",
    "T = [298, 299] #select narrow state variable ranges\n",
    "P = [101, 102] #we will set MD simulation to 101 kPa and 298 K\n",
    "devmodel = salty.aggregate_data(data,T=T,P=P)\n",
    "print(devmodel.Data_summary)\n",
    "salts = (devmodel.Data[\"smiles-cation\"]+\".\"+devmodel.Data[\"smiles-anion\"]).unique() #grab the unique salts\n",
    "\n",
    "i=49\n",
    "cation = Chem.MolFromSmiles(salts[i].split(\".\")[0])\n",
    "anion = Chem.MolFromSmiles(salts[i].split(\".\")[1]) #grab cation/anion\n",
    "cation = Chem.AddHs(cation) #add Hs\n",
    "Chem.EmbedMolecule(cation, Chem.ETKDG()) #Geo optimization for coordinates\n",
    "Chem.UFFOptimizeMolecule(cation) #FF optimization for better coordinates\n",
    "anion = Chem.AddHs(anion)\n",
    "Chem.EmbedMolecule(anion, Chem.ETKDG())\n",
    "Chem.UFFOptimizeMolecule(anion)\n",
    "    \n",
    "if i < 10:\n",
    "    MolToPDBFile(cation,\"C0{}.pdb\".format(i)) #write pdb files somewhere\n",
    "    MolToPDBFile(anion,\"A0{}.pdb\".format(i)) #with 3 character naming scheme\n",
    "else:\n",
    "    MolToPDBFile(cation,\"C{}.pdb\".format(i)) \n",
    "    MolToPDBFile(anion,\"A{}.pdb\".format(i))\n",
    "    \n",
    "print(salts[i])"
   ]
  },
  {
   "cell_type": "code",
   "execution_count": 1,
   "metadata": {},
   "outputs": [
    {
     "ename": "ModuleNotFoundError",
     "evalue": "No module named 'salty.salty'",
     "output_type": "error",
     "traceback": [
      "\u001b[0;31m---------------------------------------------------------------------------\u001b[0m",
      "\u001b[0;31mModuleNotFoundError\u001b[0m                       Traceback (most recent call last)",
      "\u001b[0;32m<ipython-input-1-4c27edabd5aa>\u001b[0m in \u001b[0;36m<module>\u001b[0;34m()\u001b[0m\n\u001b[1;32m      7\u001b[0m \u001b[0mproperty_model\u001b[0m \u001b[0;34m=\u001b[0m \u001b[0;34m\"cpt_density\"\u001b[0m \u001b[0;31m#load data for which we have cpt and density exp values\u001b[0m\u001b[0;34m\u001b[0m\u001b[0m\n\u001b[1;32m      8\u001b[0m \u001b[0mpickle_in\u001b[0m \u001b[0;34m=\u001b[0m \u001b[0mopen\u001b[0m\u001b[0;34m(\u001b[0m\u001b[0;34m\"/Users/prguser/salty/salty/data/MODELS/%s_devmodel.pkl\"\u001b[0m \u001b[0;34m%\u001b[0m \u001b[0mproperty_model\u001b[0m\u001b[0;34m,\u001b[0m \u001b[0;34m\"rb\"\u001b[0m\u001b[0;34m)\u001b[0m\u001b[0;34m\u001b[0m\u001b[0m\n\u001b[0;32m----> 9\u001b[0;31m \u001b[0mdevmodel\u001b[0m \u001b[0;34m=\u001b[0m \u001b[0mdill\u001b[0m\u001b[0;34m.\u001b[0m\u001b[0mload\u001b[0m\u001b[0;34m(\u001b[0m\u001b[0mpickle_in\u001b[0m\u001b[0;34m)\u001b[0m\u001b[0;34m\u001b[0m\u001b[0m\n\u001b[0m\u001b[1;32m     10\u001b[0m \u001b[0;34m\u001b[0m\u001b[0m\n\u001b[1;32m     11\u001b[0m \u001b[0msalts\u001b[0m \u001b[0;34m=\u001b[0m \u001b[0;34m(\u001b[0m\u001b[0mdevmodel\u001b[0m\u001b[0;34m.\u001b[0m\u001b[0mData\u001b[0m\u001b[0;34m[\u001b[0m\u001b[0;34m\"smiles-cation\"\u001b[0m\u001b[0;34m]\u001b[0m\u001b[0;34m+\u001b[0m\u001b[0;34m\".\"\u001b[0m\u001b[0;34m+\u001b[0m\u001b[0mdevmodel\u001b[0m\u001b[0;34m.\u001b[0m\u001b[0mData\u001b[0m\u001b[0;34m[\u001b[0m\u001b[0;34m\"smiles-anion\"\u001b[0m\u001b[0;34m]\u001b[0m\u001b[0;34m)\u001b[0m\u001b[0;34m.\u001b[0m\u001b[0munique\u001b[0m\u001b[0;34m(\u001b[0m\u001b[0;34m)\u001b[0m \u001b[0;31m#grab the unique salts\u001b[0m\u001b[0;34m\u001b[0m\u001b[0m\n",
      "\u001b[0;32m~/anaconda3/envs/my-rdkit-env/lib/python3.6/site-packages/dill/dill.py\u001b[0m in \u001b[0;36mload\u001b[0;34m(file)\u001b[0m\n\u001b[1;32m    286\u001b[0m     \u001b[0mpik\u001b[0m \u001b[0;34m=\u001b[0m \u001b[0mUnpickler\u001b[0m\u001b[0;34m(\u001b[0m\u001b[0mfile\u001b[0m\u001b[0;34m)\u001b[0m\u001b[0;34m\u001b[0m\u001b[0m\n\u001b[1;32m    287\u001b[0m     \u001b[0mpik\u001b[0m\u001b[0;34m.\u001b[0m\u001b[0m_main\u001b[0m \u001b[0;34m=\u001b[0m \u001b[0m_main_module\u001b[0m\u001b[0;34m\u001b[0m\u001b[0m\n\u001b[0;32m--> 288\u001b[0;31m     \u001b[0mobj\u001b[0m \u001b[0;34m=\u001b[0m \u001b[0mpik\u001b[0m\u001b[0;34m.\u001b[0m\u001b[0mload\u001b[0m\u001b[0;34m(\u001b[0m\u001b[0;34m)\u001b[0m\u001b[0;34m\u001b[0m\u001b[0m\n\u001b[0m\u001b[1;32m    289\u001b[0m     \u001b[0;32mif\u001b[0m \u001b[0mtype\u001b[0m\u001b[0;34m(\u001b[0m\u001b[0mobj\u001b[0m\u001b[0;34m)\u001b[0m\u001b[0;34m.\u001b[0m\u001b[0m__module__\u001b[0m \u001b[0;34m==\u001b[0m \u001b[0mgetattr\u001b[0m\u001b[0;34m(\u001b[0m\u001b[0m_main_module\u001b[0m\u001b[0;34m,\u001b[0m \u001b[0;34m'__name__'\u001b[0m\u001b[0;34m,\u001b[0m \u001b[0;34m'__main__'\u001b[0m\u001b[0;34m)\u001b[0m\u001b[0;34m:\u001b[0m\u001b[0;34m\u001b[0m\u001b[0m\n\u001b[1;32m    290\u001b[0m         \u001b[0;31m# point obj class to main\u001b[0m\u001b[0;34m\u001b[0m\u001b[0;34m\u001b[0m\u001b[0m\n",
      "\u001b[0;32m~/anaconda3/envs/my-rdkit-env/lib/python3.6/site-packages/dill/dill.py\u001b[0m in \u001b[0;36mfind_class\u001b[0;34m(self, module, name)\u001b[0m\n\u001b[1;32m    443\u001b[0m         \u001b[0;32melif\u001b[0m \u001b[0;34m(\u001b[0m\u001b[0mmodule\u001b[0m\u001b[0;34m,\u001b[0m \u001b[0mname\u001b[0m\u001b[0;34m)\u001b[0m \u001b[0;34m==\u001b[0m \u001b[0;34m(\u001b[0m\u001b[0;34m'__builtin__'\u001b[0m\u001b[0;34m,\u001b[0m \u001b[0;34m'NoneType'\u001b[0m\u001b[0;34m)\u001b[0m\u001b[0;34m:\u001b[0m\u001b[0;34m\u001b[0m\u001b[0m\n\u001b[1;32m    444\u001b[0m             \u001b[0;32mreturn\u001b[0m \u001b[0mtype\u001b[0m\u001b[0;34m(\u001b[0m\u001b[0;32mNone\u001b[0m\u001b[0;34m)\u001b[0m \u001b[0;31m#XXX: special case: NoneType missing\u001b[0m\u001b[0;34m\u001b[0m\u001b[0m\n\u001b[0;32m--> 445\u001b[0;31m         \u001b[0;32mreturn\u001b[0m \u001b[0mStockUnpickler\u001b[0m\u001b[0;34m.\u001b[0m\u001b[0mfind_class\u001b[0m\u001b[0;34m(\u001b[0m\u001b[0mself\u001b[0m\u001b[0;34m,\u001b[0m \u001b[0mmodule\u001b[0m\u001b[0;34m,\u001b[0m \u001b[0mname\u001b[0m\u001b[0;34m)\u001b[0m\u001b[0;34m\u001b[0m\u001b[0m\n\u001b[0m\u001b[1;32m    446\u001b[0m \u001b[0;34m\u001b[0m\u001b[0m\n\u001b[1;32m    447\u001b[0m     \u001b[0;32mdef\u001b[0m \u001b[0m__init__\u001b[0m\u001b[0;34m(\u001b[0m\u001b[0mself\u001b[0m\u001b[0;34m,\u001b[0m \u001b[0;34m*\u001b[0m\u001b[0margs\u001b[0m\u001b[0;34m,\u001b[0m \u001b[0;34m**\u001b[0m\u001b[0mkwds\u001b[0m\u001b[0;34m)\u001b[0m\u001b[0;34m:\u001b[0m\u001b[0;34m\u001b[0m\u001b[0m\n",
      "\u001b[0;31mModuleNotFoundError\u001b[0m: No module named 'salty.salty'"
     ]
    }
   ],
   "source": [
    "## This is an old script. Use the updated one above.\n",
    "\n",
    "import dill\n",
    "import salty\n",
    "from rdkit import Chem\n",
    "from rdkit.Chem import AllChem as Chem\n",
    "from rdkit.Chem.rdmolfiles import MolToPDBFile\n",
    "\n",
    "property_model = \"cpt_density\" #load data for which we have cpt and density exp values\n",
    "pickle_in = open(\"/Users/prguser/salty/salty/data/MODELS/%s_devmodel.pkl\" % property_model, \"rb\")\n",
    "devmodel = dill.load(pickle_in)\n",
    "\n",
    "salts = (devmodel.Data[\"smiles-cation\"]+\".\"+devmodel.Data[\"smiles-anion\"]).unique() #grab the unique salts\n",
    "print(len(salts))\n",
    "   \n",
    "for i in range(len(salts[:1])):\n",
    "    cation = Chem.MolFromSmiles(salts[0].split(\".\")[0])\n",
    "    anion = Chem.MolFromSmiles(salts[0].split(\".\")[1]) #grab cation/anion\n",
    "    cation = Chem.AddHs(cation) #add Hs\n",
    "    Chem.EmbedMolecule(cation, Chem.ETKDG()) #Geo optimization for coordinates\n",
    "    Chem.UFFOptimizeMolecule(cation) #FF optimization for better coordinates\n",
    "    anion = Chem.AddHs(anion)\n",
    "    Chem.EmbedMolecule(anion, Chem.ETKDG())\n",
    "    Chem.UFFOptimizeMolecule(anion)\n",
    "    \n",
    "    if i < 10:\n",
    "        MolToPDBFile(cation,\"C0{}.pdb\".format(i)) #write pdb files somewhere\n",
    "        MolToPDBFile(anion,\"A0{}.pdb\".format(i)) #with 3 character naming scheme\n",
    "    elif i < 100:\n",
    "        MolToPDBFile(cation,\"C{}.pdb\".format(i)) \n",
    "        MolToPDBFile(anion,\"A{}.pdb\".format(i))\n",
    "    elif i < 110:\n",
    "        MolToPDBFile(cation,\"CX{}.pdb\".format(i)) \n",
    "        MolToPDBFile(anion,\"AX{}.pdb\".format(i))"
   ]
  },
  {
   "cell_type": "code",
   "execution_count": 10,
   "metadata": {
    "scrolled": true
   },
   "outputs": [
    {
     "name": "stdout",
     "output_type": "stream",
     "text": [
      "                                                                       0\n",
      "Unique salts                                                          82\n",
      "Cations                array(['CCCC[n+]1ccc(cc1)C', 'CCCCCCCCn1cc[n+]...\n",
      "Anions                 array(['[B-](F)(F)(F)F', 'F[P-](F)(F)(F)(F)F',...\n",
      "Total datapoints                                                    1630\n",
      "density                                                   885.3 - 1551.8\n",
      "cpt                                                       207.5 - 1635.0\n",
      "Temperature range (K)                                  101.325 - 101.325\n",
      "Pressure range (kPa)                                       298.1 - 298.2\n",
      "cpt\n",
      "density\n"
     ]
    }
   ],
   "source": [
    "import salty\n",
    "from rdkit import Chem\n",
    "from rdkit.Chem import AllChem as Chem\n",
    "from rdkit.Chem.rdmolfiles import MolToPDBFile\n",
    "\n",
    "data = ['cpt', 'density'] #pull raw data from cpt.csv and density.csv\n",
    "T = [298, 299] #select narrow state variable ranges\n",
    "P = [101, 102] #we will set MD simulation to 101 kPa and 298 K\n",
    "devmodel = salty.aggregate_data(data,T=T,P=P)\n",
    "print(devmodel.Data_summary)\n",
    "salts = (devmodel.Data[\"smiles-cation\"]+\".\"+devmodel.Data[\"smiles-anion\"]).unique() #grab the unique salts\n"
   ]
  },
  {
   "cell_type": "code",
   "execution_count": null,
   "metadata": {},
   "outputs": [],
   "source": []
  },
  {
   "cell_type": "code",
   "execution_count": null,
   "metadata": {},
   "outputs": [],
   "source": []
  }
 ],
 "metadata": {
  "kernelspec": {
   "display_name": "Python 3",
   "language": "python",
   "name": "python3"
  },
  "language_info": {
   "codemirror_mode": {
    "name": "ipython",
    "version": 3
   },
   "file_extension": ".py",
   "mimetype": "text/x-python",
   "name": "python",
   "nbconvert_exporter": "python",
   "pygments_lexer": "ipython3",
   "version": "3.6.2"
  }
 },
 "nbformat": 4,
 "nbformat_minor": 2
}
