{
 "cells": [
  {
   "cell_type": "markdown",
   "metadata": {},
   "source": [
    "Points for Wes Project presentation:\n",
    "\n",
    "1. Show the graphs with the results.\n",
    "2. Note about C55_A55.\n",
    "3. Analysis of which ones worked and didn't work (light analysis is OKAY). \n",
    "4. rdf introduction and question about why all the graphs look exactly the same.\n",
    "5. In the future, deeper analysis of what types of molecules work and don't work.\n",
    "6. Planning to look at molecules and their heat capacity and densities to see if there is a pattern anywhere.\n"
   ]
  }
 ],
 "metadata": {
  "kernelspec": {
   "display_name": "Python 3",
   "language": "python",
   "name": "python3"
  },
  "language_info": {
   "codemirror_mode": {
    "name": "ipython",
    "version": 3
   },
   "file_extension": ".py",
   "mimetype": "text/x-python",
   "name": "python",
   "nbconvert_exporter": "python",
   "pygments_lexer": "ipython3",
   "version": "3.6.5"
  }
 },
 "nbformat": 4,
 "nbformat_minor": 2
}
